{
 "cells": [
  {
   "cell_type": "code",
   "execution_count": 2,
   "id": "87c51bea",
   "metadata": {},
   "outputs": [
    {
     "data": {
      "text/plain": [
       "18446744073709551616"
      ]
     },
     "execution_count": 2,
     "metadata": {},
     "output_type": "execute_result"
    }
   ],
   "source": [
    "2 ** 64"
   ]
  },
  {
   "cell_type": "code",
   "execution_count": 3,
   "id": "fb72c6a2",
   "metadata": {},
   "outputs": [],
   "source": [
    "num = 5356 ** 1345"
   ]
  },
  {
   "cell_type": "code",
   "execution_count": 4,
   "id": "02484c37",
   "metadata": {},
   "outputs": [
    {
     "data": {
      "text/plain": [
       "195238030176946401774616864993923987335406874614306294892188499494241967581527007619579709119397971748218152275689238673945157940743192080658159989462906903618002969311254602940139565656163011795483559508711662125572679929762040730704516486855245707317426601938980385044631126320027605458343726508184752177747884586974155935621974847446298334355249313135386060947862208242985222127011716872079660244275523274625211557207859288979027115880825542531521254640560346327366660247631658405727766709874995241449799760639458108944165496939987247681036823613495807340710863730395340854638236975914977750697109510931556852695982924919132621155699015798059624592323095097702009818925620190063701459747898468387762506243775051933289992825912756226322282256629508409188696448270104115673435822341443841358257663683653564008358859823848242869954538950248260062552907776372416265734310953609243323097336226304770156357971964800415443376315644808141640477311327672497586189730986645477466186324743260650617168811895149242889452217905947698092689842323354874591906188103229488090727988986982187136212310445820184519814981690024488319817962327090405416159679782577766563217965527622978999629478909160961746578845949020931597635453806749273671763742397780347150947532188767282359224735896564037464183163552651163511727905219240810013736963521234293487256393985693313391424207246859899977864410768316102951236250879056882424729611248318924785375392098860399344631099210239633165901700413664654520233774384653012777192289135060372153037098265901578529661298428956640467900306068372000553496406411439781381340135457154813894720300211814030264806087437166210705362911537205878957202988742216149446123385952966298380376263200594136072640949591529194364559782769922148700011786858608410296667323083564922032978605300321691791413017003254866464016112200159862065906567055748265289529967944757922129516184474914804955512596989935600484290405917216205492316910332266004236102129067787244793127289796377011180555198098899898170575049220813798706655866206783980623549701257541801883813228040910150878609130848560363099081170472674826099565324064771238020915023990857811650004380535516606366926203206785399263620846645950927653820274089170684574597514481007718484849991093464492677781165588505119894580585304081564463750555156089490048226550076331928194094972324529137244968743848118361888441811251008854410249639337969433653208369764751964901166114283761376446454575207605916596795991979643740106967108172133197057247552256366389052238359558193919408937569071780457817913604461973122009865648487239634643510053579476704829510132644011320785147252868287670540328434538697940187474082322585487012786864402328205855563055666423230596630389251761556527021487359763032611628868361875740657485885649526338097143995661694574161391516180243727025644802036657424726067788918410505602976465220885138999119979318941748974930120876932709590245948914078642583039494019823711974906367936157159409969231931460505493844843671791030365764243152113306546903958187489162337639844650737854209582819713690844479250702361296213313401296106839981253618843292254719913594825191365131068955582727130468902965716121237488294559975235825135975541696104858337861012706052570249262777788372248094098131382283715733890311458273693402514748318687636232425441761375944657501553326465645302838724145649116552509897949216315041120732848454395091568256837972273322117073862861569812725903970707078099790637794835220216827637666140022739298511775583855826184146036943064904954426415717185193440915306300731756065296177205179443555390497892066341048787904140975173661680594462876413689137466486856408805120347663828284110286420702426607401135221725307503544850452335075322321940151275697047516871052432388558324326633957303793676924023923892838459938235156196493753582210012799366033778740922715653326001710790501095863125482429601285409847783428243776687483250411396011222716263263532035393601338297881810295339973289362191134875104334143545705057813488334735698367475471142715268564371999015231877534470150452097437969811531599242699073884808632059717575157609275539044400225505601710968796938440997726520189157355721591061963906389381980575365649236132923961303009984094220176402504070808010678467522243896395540291068454281548234802394564036777832518777952163968037360968043194530616750736041291301884759631751771565269651542810228369495852052813235208682944659201362309255497457680685169994092639996023605981660584547411344048523424322381518752121756659093892380211907850389983599577171164513421581252184287086003728697242451525360730138141056301069589198950931015341872254911136354234291089103865541353260332090325584670338097811567794437198918116076674266825577687409002072552364252525955157145775222364553942716680762475514595504833557818184122344622919627035111312891135297454910412280640229733621440404208070865020120213571803949513454691133214692655923358526325378200640788363461981538849447898177820114785408437338744418229054993256481617440683327472169686589780028030976"
      ]
     },
     "execution_count": 4,
     "metadata": {},
     "output_type": "execute_result"
    }
   ],
   "source": [
    "num"
   ]
  },
  {
   "cell_type": "code",
   "execution_count": 5,
   "id": "b5cebb97",
   "metadata": {},
   "outputs": [],
   "source": [
    "import numpy as np"
   ]
  },
  {
   "cell_type": "code",
   "execution_count": 6,
   "id": "0327bdf4",
   "metadata": {},
   "outputs": [],
   "source": [
    "num = np.array([56,23,17,44,28,75,38])"
   ]
  },
  {
   "cell_type": "code",
   "execution_count": 7,
   "id": "f99d620f",
   "metadata": {},
   "outputs": [
    {
     "name": "stdout",
     "output_type": "stream",
     "text": [
      "[56 23 17 44 28 75 38]\n"
     ]
    }
   ],
   "source": [
    "print(num)"
   ]
  },
  {
   "cell_type": "code",
   "execution_count": 8,
   "id": "4d675ca4",
   "metadata": {},
   "outputs": [
    {
     "data": {
      "text/plain": [
       "array([56, 23, 17, 44, 28, 75, 38])"
      ]
     },
     "execution_count": 8,
     "metadata": {},
     "output_type": "execute_result"
    }
   ],
   "source": [
    "num"
   ]
  },
  {
   "cell_type": "code",
   "execution_count": 9,
   "id": "8f8c04e3",
   "metadata": {},
   "outputs": [
    {
     "data": {
      "text/plain": [
       "dtype('int64')"
      ]
     },
     "execution_count": 9,
     "metadata": {},
     "output_type": "execute_result"
    }
   ],
   "source": [
    "num.dtype"
   ]
  },
  {
   "cell_type": "code",
   "execution_count": 10,
   "id": "0925a818",
   "metadata": {},
   "outputs": [
    {
     "data": {
      "text/plain": [
       "7"
      ]
     },
     "execution_count": 10,
     "metadata": {},
     "output_type": "execute_result"
    }
   ],
   "source": [
    "num.size"
   ]
  },
  {
   "cell_type": "code",
   "execution_count": 11,
   "id": "c6d5e9dc",
   "metadata": {},
   "outputs": [
    {
     "data": {
      "text/plain": [
       "numpy.ndarray"
      ]
     },
     "execution_count": 11,
     "metadata": {},
     "output_type": "execute_result"
    }
   ],
   "source": [
    "type(num)"
   ]
  },
  {
   "cell_type": "code",
   "execution_count": 12,
   "id": "88771cc6",
   "metadata": {},
   "outputs": [
    {
     "data": {
      "text/plain": [
       "1"
      ]
     },
     "execution_count": 12,
     "metadata": {},
     "output_type": "execute_result"
    }
   ],
   "source": [
    "num.ndim"
   ]
  },
  {
   "cell_type": "code",
   "execution_count": 13,
   "id": "9c516458",
   "metadata": {},
   "outputs": [],
   "source": [
    "num1 = np.array([56,23,17,44,28.23,75,38])"
   ]
  },
  {
   "cell_type": "code",
   "execution_count": 14,
   "id": "f0c5b97f",
   "metadata": {},
   "outputs": [
    {
     "data": {
      "text/plain": [
       "dtype('float64')"
      ]
     },
     "execution_count": 14,
     "metadata": {},
     "output_type": "execute_result"
    }
   ],
   "source": [
    "num1.dtype"
   ]
  },
  {
   "cell_type": "code",
   "execution_count": 17,
   "id": "f4cda441",
   "metadata": {},
   "outputs": [
    {
     "data": {
      "text/plain": [
       "44.0"
      ]
     },
     "execution_count": 17,
     "metadata": {},
     "output_type": "execute_result"
    }
   ],
   "source": [
    "num1[3]"
   ]
  },
  {
   "cell_type": "code",
   "execution_count": 18,
   "id": "0e5bea3e",
   "metadata": {},
   "outputs": [],
   "source": [
    "num = np.array([56,23,17,'44',28,75,38])"
   ]
  },
  {
   "cell_type": "code",
   "execution_count": 19,
   "id": "f86f4fbf",
   "metadata": {},
   "outputs": [
    {
     "data": {
      "text/plain": [
       "array(['56', '23', '17', '44', '28', '75', '38'], dtype='<U21')"
      ]
     },
     "execution_count": 19,
     "metadata": {},
     "output_type": "execute_result"
    }
   ],
   "source": [
    "num"
   ]
  },
  {
   "cell_type": "code",
   "execution_count": 20,
   "id": "977b0f6f",
   "metadata": {},
   "outputs": [],
   "source": [
    "names = np.array(['अथर्व','यश','गौरी','दीक्षा','सिमरन'])"
   ]
  },
  {
   "cell_type": "code",
   "execution_count": 22,
   "id": "892535b9",
   "metadata": {},
   "outputs": [
    {
     "name": "stdout",
     "output_type": "stream",
     "text": [
      "['अथर्व' 'यश' 'गौरी' 'दीक्षा' 'सिमरन']\n"
     ]
    }
   ],
   "source": [
    "print(names)"
   ]
  },
  {
   "cell_type": "code",
   "execution_count": 24,
   "id": "a2347022",
   "metadata": {},
   "outputs": [
    {
     "data": {
      "text/plain": [
       "'यश'"
      ]
     },
     "execution_count": 24,
     "metadata": {},
     "output_type": "execute_result"
    }
   ],
   "source": [
    "names[1]"
   ]
  },
  {
   "cell_type": "code",
   "execution_count": 26,
   "id": "53f1e2b2",
   "metadata": {},
   "outputs": [
    {
     "data": {
      "text/plain": [
       "True"
      ]
     },
     "execution_count": 26,
     "metadata": {},
     "output_type": "execute_result"
    }
   ],
   "source": [
    "names[1].startswith('य')"
   ]
  },
  {
   "cell_type": "code",
   "execution_count": 28,
   "id": "48042f99",
   "metadata": {},
   "outputs": [
    {
     "data": {
      "text/plain": [
       "'यष'"
      ]
     },
     "execution_count": 28,
     "metadata": {},
     "output_type": "execute_result"
    }
   ],
   "source": [
    "names[1].replace('श','ष')"
   ]
  },
  {
   "cell_type": "code",
   "execution_count": 30,
   "id": "3d6c1505",
   "metadata": {},
   "outputs": [],
   "source": [
    "num = np.array([56,23,17,44,28,75,38])"
   ]
  },
  {
   "cell_type": "code",
   "execution_count": 31,
   "id": "d2fbc34c",
   "metadata": {},
   "outputs": [
    {
     "data": {
      "text/plain": [
       "dtype('int64')"
      ]
     },
     "execution_count": 31,
     "metadata": {},
     "output_type": "execute_result"
    }
   ],
   "source": [
    "num.dtype"
   ]
  },
  {
   "cell_type": "code",
   "execution_count": 32,
   "id": "df6bae0f",
   "metadata": {},
   "outputs": [],
   "source": [
    "num = np.array([56,23,17,44,28,75,38],\n",
    "              dtype=np.int16)"
   ]
  },
  {
   "cell_type": "code",
   "execution_count": 33,
   "id": "a41aa2d8",
   "metadata": {},
   "outputs": [
    {
     "data": {
      "text/plain": [
       "array([56, 23, 17, 44, 28, 75, 38], dtype=int16)"
      ]
     },
     "execution_count": 33,
     "metadata": {},
     "output_type": "execute_result"
    }
   ],
   "source": [
    "num"
   ]
  },
  {
   "cell_type": "code",
   "execution_count": 34,
   "id": "86bfcca5",
   "metadata": {},
   "outputs": [
    {
     "data": {
      "text/plain": [
       "dtype('int16')"
      ]
     },
     "execution_count": 34,
     "metadata": {},
     "output_type": "execute_result"
    }
   ],
   "source": [
    "num.dtype"
   ]
  },
  {
   "cell_type": "code",
   "execution_count": 35,
   "id": "8640fabd",
   "metadata": {},
   "outputs": [],
   "source": [
    "x = [56, 23, 17, 44, 28, 75, 38]"
   ]
  },
  {
   "cell_type": "code",
   "execution_count": 36,
   "id": "d5c7763a",
   "metadata": {},
   "outputs": [
    {
     "data": {
      "text/plain": [
       "[56, 23, 17, 44, 28, 75, 38, 56, 23, 17, 44, 28, 75, 38]"
      ]
     },
     "execution_count": 36,
     "metadata": {},
     "output_type": "execute_result"
    }
   ],
   "source": [
    "x * 2"
   ]
  },
  {
   "cell_type": "code",
   "execution_count": 37,
   "id": "02731b17",
   "metadata": {},
   "outputs": [
    {
     "data": {
      "text/plain": [
       "array([112,  46,  34,  88,  56, 150,  76], dtype=int16)"
      ]
     },
     "execution_count": 37,
     "metadata": {},
     "output_type": "execute_result"
    }
   ],
   "source": [
    "num * 2"
   ]
  },
  {
   "cell_type": "code",
   "execution_count": 38,
   "id": "b5924440",
   "metadata": {},
   "outputs": [
    {
     "data": {
      "text/plain": [
       "array([46, 13,  7, 34, 18, 65, 28], dtype=int16)"
      ]
     },
     "execution_count": 38,
     "metadata": {},
     "output_type": "execute_result"
    }
   ],
   "source": [
    "num - 10"
   ]
  },
  {
   "cell_type": "code",
   "execution_count": 39,
   "id": "94ac8290",
   "metadata": {},
   "outputs": [
    {
     "data": {
      "text/plain": [
       "array([4.66666667, 1.91666667, 1.41666667, 3.66666667, 2.33333333,\n",
       "       6.25      , 3.16666667])"
      ]
     },
     "execution_count": 39,
     "metadata": {},
     "output_type": "execute_result"
    }
   ],
   "source": [
    "num / 12"
   ]
  },
  {
   "cell_type": "code",
   "execution_count": 40,
   "id": "8cddf081",
   "metadata": {},
   "outputs": [
    {
     "data": {
      "text/plain": [
       "array([1, 3, 2, 4, 3, 0, 3], dtype=int16)"
      ]
     },
     "execution_count": 40,
     "metadata": {},
     "output_type": "execute_result"
    }
   ],
   "source": [
    "num % 5"
   ]
  },
  {
   "cell_type": "code",
   "execution_count": 41,
   "id": "9fcd92a5",
   "metadata": {},
   "outputs": [],
   "source": [
    "num1 = np.array([23, 89, 12, 48, 61, 49, 93])"
   ]
  },
  {
   "cell_type": "code",
   "execution_count": 42,
   "id": "b01e3932",
   "metadata": {},
   "outputs": [
    {
     "data": {
      "text/plain": [
       "array([ 79, 112,  29,  92,  89, 124, 131])"
      ]
     },
     "execution_count": 42,
     "metadata": {},
     "output_type": "execute_result"
    }
   ],
   "source": [
    "num + num1"
   ]
  },
  {
   "cell_type": "code",
   "execution_count": 43,
   "id": "bc32208e",
   "metadata": {},
   "outputs": [
    {
     "data": {
      "text/plain": [
       "array([ 33, -66,   5,  -4, -33,  26, -55])"
      ]
     },
     "execution_count": 43,
     "metadata": {},
     "output_type": "execute_result"
    }
   ],
   "source": [
    "num - num1"
   ]
  },
  {
   "cell_type": "code",
   "execution_count": 44,
   "id": "725a5997",
   "metadata": {},
   "outputs": [
    {
     "data": {
      "text/plain": [
       "array([1288, 2047,  204, 2112, 1708, 3675, 3534])"
      ]
     },
     "execution_count": 44,
     "metadata": {},
     "output_type": "execute_result"
    }
   ],
   "source": [
    "num * num1"
   ]
  },
  {
   "cell_type": "code",
   "execution_count": 45,
   "id": "52be564c",
   "metadata": {},
   "outputs": [
    {
     "data": {
      "text/plain": [
       "array([118.5, 168. ,  43.5, 138. , 133.5, 186. , 196.5])"
      ]
     },
     "execution_count": 45,
     "metadata": {},
     "output_type": "execute_result"
    }
   ],
   "source": [
    "(num + num1) * 1.5"
   ]
  },
  {
   "cell_type": "code",
   "execution_count": 46,
   "id": "c60feab8",
   "metadata": {},
   "outputs": [
    {
     "data": {
      "text/plain": [
       "array([ True, False, False, False, False,  True, False])"
      ]
     },
     "execution_count": 46,
     "metadata": {},
     "output_type": "execute_result"
    }
   ],
   "source": [
    "num > 50"
   ]
  },
  {
   "cell_type": "code",
   "execution_count": 48,
   "id": "48f90244",
   "metadata": {},
   "outputs": [
    {
     "data": {
      "text/plain": [
       "array([56, 44, 75], dtype=int16)"
      ]
     },
     "execution_count": 48,
     "metadata": {},
     "output_type": "execute_result"
    }
   ],
   "source": [
    "num[num>40]"
   ]
  },
  {
   "cell_type": "code",
   "execution_count": 49,
   "id": "3a309b8a",
   "metadata": {},
   "outputs": [
    {
     "data": {
      "text/plain": [
       "array([23, 17, 75], dtype=int16)"
      ]
     },
     "execution_count": 49,
     "metadata": {},
     "output_type": "execute_result"
    }
   ],
   "source": [
    "num[num%2==1]"
   ]
  },
  {
   "cell_type": "code",
   "execution_count": 50,
   "id": "f1522f4d",
   "metadata": {},
   "outputs": [
    {
     "data": {
      "text/plain": [
       "array([24, 18, 76], dtype=int16)"
      ]
     },
     "execution_count": 50,
     "metadata": {},
     "output_type": "execute_result"
    }
   ],
   "source": [
    "num[num%2==1] + 1"
   ]
  },
  {
   "cell_type": "code",
   "execution_count": 70,
   "id": "a31a983c",
   "metadata": {},
   "outputs": [],
   "source": [
    "def isPrime(n):\n",
    "    for i in range(2,n-1):\n",
    "        if n % i == 0:\n",
    "            return False\n",
    "    return True"
   ]
  },
  {
   "cell_type": "code",
   "execution_count": 72,
   "id": "ad17cb9d",
   "metadata": {},
   "outputs": [
    {
     "data": {
      "text/plain": [
       "True"
      ]
     },
     "execution_count": 72,
     "metadata": {},
     "output_type": "execute_result"
    }
   ],
   "source": [
    "isPrime(23)"
   ]
  },
  {
   "cell_type": "code",
   "execution_count": 75,
   "id": "5a16c2a2",
   "metadata": {},
   "outputs": [
    {
     "data": {
      "text/plain": [
       "[23, 17]"
      ]
     },
     "execution_count": 75,
     "metadata": {},
     "output_type": "execute_result"
    }
   ],
   "source": [
    "[i for i in num if isPrime(i)]"
   ]
  },
  {
   "cell_type": "code",
   "execution_count": 81,
   "id": "2c4386ee",
   "metadata": {},
   "outputs": [
    {
     "ename": "AxisError",
     "evalue": "axis 1 is out of bounds for array of dimension 1",
     "output_type": "error",
     "traceback": [
      "\u001b[0;31m------------------------------------------------------------------------\u001b[0m",
      "\u001b[0;31mAxisError\u001b[0m                              Traceback (most recent call last)",
      "\u001b[0;32m<ipython-input-81-8f9ef5d058d1>\u001b[0m in \u001b[0;36m<module>\u001b[0;34m\u001b[0m\n\u001b[0;32m----> 1\u001b[0;31m \u001b[0mnp\u001b[0m\u001b[0;34m.\u001b[0m\u001b[0mapply_along_axis\u001b[0m\u001b[0;34m(\u001b[0m\u001b[0mfunc1d\u001b[0m\u001b[0;34m=\u001b[0m\u001b[0misPrime\u001b[0m\u001b[0;34m,\u001b[0m \u001b[0maxis\u001b[0m\u001b[0;34m=\u001b[0m\u001b[0;36m1\u001b[0m\u001b[0;34m,\u001b[0m\u001b[0marr\u001b[0m\u001b[0;34m=\u001b[0m\u001b[0mnum\u001b[0m\u001b[0;34m)\u001b[0m\u001b[0;34m\u001b[0m\u001b[0;34m\u001b[0m\u001b[0m\n\u001b[0m",
      "\u001b[0;32m<__array_function__ internals>\u001b[0m in \u001b[0;36mapply_along_axis\u001b[0;34m(*args, **kwargs)\u001b[0m\n",
      "\u001b[0;32m~/.local/lib/python3.8/site-packages/numpy/lib/shape_base.py\u001b[0m in \u001b[0;36mapply_along_axis\u001b[0;34m(func1d, axis, arr, *args, **kwargs)\u001b[0m\n\u001b[1;32m    359\u001b[0m     \u001b[0marr\u001b[0m \u001b[0;34m=\u001b[0m \u001b[0masanyarray\u001b[0m\u001b[0;34m(\u001b[0m\u001b[0marr\u001b[0m\u001b[0;34m)\u001b[0m\u001b[0;34m\u001b[0m\u001b[0;34m\u001b[0m\u001b[0m\n\u001b[1;32m    360\u001b[0m     \u001b[0mnd\u001b[0m \u001b[0;34m=\u001b[0m \u001b[0marr\u001b[0m\u001b[0;34m.\u001b[0m\u001b[0mndim\u001b[0m\u001b[0;34m\u001b[0m\u001b[0;34m\u001b[0m\u001b[0m\n\u001b[0;32m--> 361\u001b[0;31m     \u001b[0maxis\u001b[0m \u001b[0;34m=\u001b[0m \u001b[0mnormalize_axis_index\u001b[0m\u001b[0;34m(\u001b[0m\u001b[0maxis\u001b[0m\u001b[0;34m,\u001b[0m \u001b[0mnd\u001b[0m\u001b[0;34m)\u001b[0m\u001b[0;34m\u001b[0m\u001b[0;34m\u001b[0m\u001b[0m\n\u001b[0m\u001b[1;32m    362\u001b[0m \u001b[0;34m\u001b[0m\u001b[0m\n\u001b[1;32m    363\u001b[0m     \u001b[0;31m# arr, with the iteration axis at the end\u001b[0m\u001b[0;34m\u001b[0m\u001b[0;34m\u001b[0m\u001b[0;34m\u001b[0m\u001b[0m\n",
      "\u001b[0;31mAxisError\u001b[0m: axis 1 is out of bounds for array of dimension 1"
     ]
    }
   ],
   "source": [
    "np.apply_along_axis(func1d=isPrime, axis=1,arr=num)"
   ]
  },
  {
   "cell_type": "code",
   "execution_count": 82,
   "id": "34de9e31",
   "metadata": {},
   "outputs": [
    {
     "data": {
      "text/plain": [
       "75"
      ]
     },
     "execution_count": 82,
     "metadata": {},
     "output_type": "execute_result"
    }
   ],
   "source": [
    "num.max()"
   ]
  },
  {
   "cell_type": "code",
   "execution_count": 83,
   "id": "6df027b3",
   "metadata": {},
   "outputs": [
    {
     "data": {
      "text/plain": [
       "17"
      ]
     },
     "execution_count": 83,
     "metadata": {},
     "output_type": "execute_result"
    }
   ],
   "source": [
    "num.min()"
   ]
  },
  {
   "cell_type": "code",
   "execution_count": 84,
   "id": "22a36325",
   "metadata": {},
   "outputs": [
    {
     "data": {
      "text/plain": [
       "40.142857142857146"
      ]
     },
     "execution_count": 84,
     "metadata": {},
     "output_type": "execute_result"
    }
   ],
   "source": [
    "num.mean()"
   ]
  },
  {
   "cell_type": "code",
   "execution_count": 85,
   "id": "aa97326f",
   "metadata": {},
   "outputs": [
    {
     "data": {
      "text/plain": [
       "281"
      ]
     },
     "execution_count": 85,
     "metadata": {},
     "output_type": "execute_result"
    }
   ],
   "source": [
    "num.sum()"
   ]
  },
  {
   "cell_type": "code",
   "execution_count": 86,
   "id": "95e98f4b",
   "metadata": {},
   "outputs": [
    {
     "data": {
      "text/plain": [
       "18.757311499622688"
      ]
     },
     "execution_count": 86,
     "metadata": {},
     "output_type": "execute_result"
    }
   ],
   "source": [
    "num.std()"
   ]
  },
  {
   "cell_type": "code",
   "execution_count": 87,
   "id": "87ac08cf",
   "metadata": {},
   "outputs": [],
   "source": [
    "num.fill(4)"
   ]
  },
  {
   "cell_type": "code",
   "execution_count": 88,
   "id": "e383a31b",
   "metadata": {},
   "outputs": [
    {
     "data": {
      "text/plain": [
       "array([4, 4, 4, 4, 4, 4, 4], dtype=int16)"
      ]
     },
     "execution_count": 88,
     "metadata": {},
     "output_type": "execute_result"
    }
   ],
   "source": [
    "num"
   ]
  },
  {
   "cell_type": "code",
   "execution_count": 89,
   "id": "5da2cb7d",
   "metadata": {},
   "outputs": [],
   "source": [
    "num = np.array([56,23,17,44,28,75,38],\n",
    "              dtype=np.int16)"
   ]
  },
  {
   "cell_type": "code",
   "execution_count": 90,
   "id": "3924ffdd",
   "metadata": {},
   "outputs": [
    {
     "data": {
      "text/plain": [
       "array([7.483315 , 4.7958317, 4.1231055, 6.6332498, 5.2915025, 8.6602545,\n",
       "       6.164414 ], dtype=float32)"
      ]
     },
     "execution_count": 90,
     "metadata": {},
     "output_type": "execute_result"
    }
   ],
   "source": [
    "np.sqrt(num)"
   ]
  },
  {
   "cell_type": "code",
   "execution_count": 91,
   "id": "597a7377",
   "metadata": {},
   "outputs": [
    {
     "data": {
      "text/plain": [
       "38.0"
      ]
     },
     "execution_count": 91,
     "metadata": {},
     "output_type": "execute_result"
    }
   ],
   "source": [
    "np.median(num)"
   ]
  },
  {
   "cell_type": "code",
   "execution_count": 92,
   "id": "07fa09a5",
   "metadata": {},
   "outputs": [
    {
     "data": {
      "text/plain": [
       "array([0., 0., 0., 0., 0., 0., 0., 0., 0., 0., 0., 0.])"
      ]
     },
     "execution_count": 92,
     "metadata": {},
     "output_type": "execute_result"
    }
   ],
   "source": [
    "np.zeros(12)"
   ]
  },
  {
   "cell_type": "code",
   "execution_count": 93,
   "id": "a38ff7f6",
   "metadata": {},
   "outputs": [
    {
     "data": {
      "text/plain": [
       "array([1., 1., 1., 1., 1., 1.])"
      ]
     },
     "execution_count": 93,
     "metadata": {},
     "output_type": "execute_result"
    }
   ],
   "source": [
    "np.ones(6)"
   ]
  },
  {
   "cell_type": "code",
   "execution_count": 94,
   "id": "3c476bb2",
   "metadata": {},
   "outputs": [
    {
     "data": {
      "text/plain": [
       "array([0, 1, 2, 3, 4, 5, 6, 7, 8])"
      ]
     },
     "execution_count": 94,
     "metadata": {},
     "output_type": "execute_result"
    }
   ],
   "source": [
    "np.arange(9)"
   ]
  },
  {
   "cell_type": "code",
   "execution_count": 95,
   "id": "44419a66",
   "metadata": {},
   "outputs": [
    {
     "data": {
      "text/plain": [
       "array([4, 5, 6, 7, 8, 9])"
      ]
     },
     "execution_count": 95,
     "metadata": {},
     "output_type": "execute_result"
    }
   ],
   "source": [
    "np.arange(4,10)"
   ]
  },
  {
   "cell_type": "code",
   "execution_count": 96,
   "id": "47a860a8",
   "metadata": {},
   "outputs": [
    {
     "data": {
      "text/plain": [
       "array([ 4,  6,  8, 10, 12, 14])"
      ]
     },
     "execution_count": 96,
     "metadata": {},
     "output_type": "execute_result"
    }
   ],
   "source": [
    "np.arange(4,15,2)"
   ]
  },
  {
   "cell_type": "code",
   "execution_count": 97,
   "id": "e7065e86",
   "metadata": {},
   "outputs": [
    {
     "data": {
      "text/plain": [
       "array([9, 8, 7, 6, 5, 4, 3])"
      ]
     },
     "execution_count": 97,
     "metadata": {},
     "output_type": "execute_result"
    }
   ],
   "source": [
    "np.arange(9,2,-1)"
   ]
  },
  {
   "cell_type": "code",
   "execution_count": 98,
   "id": "ec0e058b",
   "metadata": {},
   "outputs": [
    {
     "data": {
      "text/plain": [
       "array([-5. , -4.5, -4. , -3.5, -3. , -2.5, -2. , -1.5, -1. , -0.5,  0. ,\n",
       "        0.5,  1. ,  1.5,  2. ,  2.5,  3. ,  3.5,  4. ,  4.5])"
      ]
     },
     "execution_count": 98,
     "metadata": {},
     "output_type": "execute_result"
    }
   ],
   "source": [
    "np.arange(-5, 5, 0.5)"
   ]
  },
  {
   "cell_type": "code",
   "execution_count": 101,
   "id": "ca906d41",
   "metadata": {},
   "outputs": [
    {
     "data": {
      "text/plain": [
       "array([ 1.,  2.,  3.,  4.,  5.,  6.,  7.,  8.,  9., 10.])"
      ]
     },
     "execution_count": 101,
     "metadata": {},
     "output_type": "execute_result"
    }
   ],
   "source": [
    "np.linspace(1,10,10)"
   ]
  },
  {
   "cell_type": "markdown",
   "id": "68ea7a46",
   "metadata": {},
   "source": [
    "#### Matrix"
   ]
  },
  {
   "cell_type": "code",
   "execution_count": 103,
   "id": "06522970",
   "metadata": {},
   "outputs": [],
   "source": [
    "mat = np.array([[3,2,5],[7,8,1],[6,4,0]])"
   ]
  },
  {
   "cell_type": "code",
   "execution_count": 104,
   "id": "2a6baadd",
   "metadata": {},
   "outputs": [
    {
     "data": {
      "text/plain": [
       "array([[3, 2, 5],\n",
       "       [7, 8, 1],\n",
       "       [6, 4, 0]])"
      ]
     },
     "execution_count": 104,
     "metadata": {},
     "output_type": "execute_result"
    }
   ],
   "source": [
    "mat"
   ]
  },
  {
   "cell_type": "code",
   "execution_count": 105,
   "id": "1dc156bb",
   "metadata": {},
   "outputs": [
    {
     "data": {
      "text/plain": [
       "(3, 3)"
      ]
     },
     "execution_count": 105,
     "metadata": {},
     "output_type": "execute_result"
    }
   ],
   "source": [
    "mat.shape"
   ]
  },
  {
   "cell_type": "code",
   "execution_count": 107,
   "id": "a5f2934f",
   "metadata": {},
   "outputs": [
    {
     "data": {
      "text/plain": [
       "2"
      ]
     },
     "execution_count": 107,
     "metadata": {},
     "output_type": "execute_result"
    }
   ],
   "source": [
    "mat.ndim"
   ]
  },
  {
   "cell_type": "code",
   "execution_count": 108,
   "id": "62526ea4",
   "metadata": {},
   "outputs": [
    {
     "data": {
      "text/plain": [
       "9"
      ]
     },
     "execution_count": 108,
     "metadata": {},
     "output_type": "execute_result"
    }
   ],
   "source": [
    "mat.size"
   ]
  },
  {
   "cell_type": "code",
   "execution_count": 109,
   "id": "979d3e09",
   "metadata": {},
   "outputs": [
    {
     "data": {
      "text/plain": [
       "dtype('int64')"
      ]
     },
     "execution_count": 109,
     "metadata": {},
     "output_type": "execute_result"
    }
   ],
   "source": [
    "mat.dtype"
   ]
  },
  {
   "cell_type": "code",
   "execution_count": 111,
   "id": "0dc80860",
   "metadata": {},
   "outputs": [
    {
     "data": {
      "text/plain": [
       "1"
      ]
     },
     "execution_count": 111,
     "metadata": {},
     "output_type": "execute_result"
    }
   ],
   "source": [
    "mat[1][2]"
   ]
  },
  {
   "cell_type": "code",
   "execution_count": 112,
   "id": "4e72fe94",
   "metadata": {},
   "outputs": [
    {
     "data": {
      "text/plain": [
       "array([[ 9,  6, 15],\n",
       "       [21, 24,  3],\n",
       "       [18, 12,  0]])"
      ]
     },
     "execution_count": 112,
     "metadata": {},
     "output_type": "execute_result"
    }
   ],
   "source": [
    "mat * 3"
   ]
  },
  {
   "cell_type": "code",
   "execution_count": 113,
   "id": "14b8f636",
   "metadata": {},
   "outputs": [
    {
     "data": {
      "text/plain": [
       "array([[3, 2, 5],\n",
       "       [7, 8, 1]])"
      ]
     },
     "execution_count": 113,
     "metadata": {},
     "output_type": "execute_result"
    }
   ],
   "source": [
    "mat = np.array([[3,2,5],[7,8,1]])\n",
    "mat"
   ]
  },
  {
   "cell_type": "code",
   "execution_count": 114,
   "id": "c4ef9819",
   "metadata": {},
   "outputs": [
    {
     "data": {
      "text/plain": [
       "array([[3, 2],\n",
       "       [5, 7],\n",
       "       [8, 1]])"
      ]
     },
     "execution_count": 114,
     "metadata": {},
     "output_type": "execute_result"
    }
   ],
   "source": [
    "mat.reshape(3,2)"
   ]
  },
  {
   "cell_type": "code",
   "execution_count": 115,
   "id": "bc7c77e9",
   "metadata": {},
   "outputs": [
    {
     "data": {
      "text/plain": [
       "array([[3],\n",
       "       [2],\n",
       "       [5],\n",
       "       [7],\n",
       "       [8],\n",
       "       [1]])"
      ]
     },
     "execution_count": 115,
     "metadata": {},
     "output_type": "execute_result"
    }
   ],
   "source": [
    "mat.reshape(6,1)"
   ]
  },
  {
   "cell_type": "code",
   "execution_count": 116,
   "id": "653200b8",
   "metadata": {},
   "outputs": [
    {
     "data": {
      "text/plain": [
       "array([3, 2, 5, 7, 8, 1])"
      ]
     },
     "execution_count": 116,
     "metadata": {},
     "output_type": "execute_result"
    }
   ],
   "source": [
    "mat.reshape(6)"
   ]
  },
  {
   "cell_type": "code",
   "execution_count": 117,
   "id": "361e12b2",
   "metadata": {},
   "outputs": [
    {
     "data": {
      "text/plain": [
       "array([3, 2, 5, 7, 8, 1])"
      ]
     },
     "execution_count": 117,
     "metadata": {},
     "output_type": "execute_result"
    }
   ],
   "source": [
    "mat.flatten()"
   ]
  },
  {
   "cell_type": "code",
   "execution_count": null,
   "id": "1481ce6c",
   "metadata": {},
   "outputs": [],
   "source": []
  }
 ],
 "metadata": {
  "kernelspec": {
   "display_name": "Python 3",
   "language": "python",
   "name": "python3"
  },
  "language_info": {
   "codemirror_mode": {
    "name": "ipython",
    "version": 3
   },
   "file_extension": ".py",
   "mimetype": "text/x-python",
   "name": "python",
   "nbconvert_exporter": "python",
   "pygments_lexer": "ipython3",
   "version": "3.8.10"
  }
 },
 "nbformat": 4,
 "nbformat_minor": 5
}
