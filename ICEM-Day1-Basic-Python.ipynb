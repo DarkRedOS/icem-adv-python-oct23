{
 "cells": [
  {
   "cell_type": "markdown",
   "id": "2ca44822",
   "metadata": {},
   "source": [
    "#### Read the purchase cost and selling cost of a product and find how much loss/profit you got?"
   ]
  },
  {
   "cell_type": "code",
   "execution_count": 3,
   "id": "4c2c0711",
   "metadata": {},
   "outputs": [
    {
     "name": "stdout",
     "output_type": "stream",
     "text": [
      "Enter purchase cost: 90\n",
      "Enter selling  cost: 90\n",
      "Loss: 0\n"
     ]
    }
   ],
   "source": [
    "purchase = int(input('Enter purchase cost: '))\n",
    "selling  = int(input('Enter selling  cost: '))\n",
    "\n",
    "if purchase < selling:\n",
    "    print('Profit:', selling - purchase)\n",
    "else:    \n",
    "    print('Loss:', purchase - selling)"
   ]
  },
  {
   "cell_type": "markdown",
   "id": "e986aa5c",
   "metadata": {},
   "source": [
    "#### Read three different numbers from user and find largest of them"
   ]
  },
  {
   "cell_type": "code",
   "execution_count": null,
   "id": "3128c971",
   "metadata": {},
   "outputs": [],
   "source": [
    "num1 = int(input('Enter first number: '))\n",
    "num2 = int(input('Enter second number: '))\n",
    "num3 = int(input('Enter third number: '))\n",
    "\n",
    "if num1 > num2:\n",
    "    if num1 > num3:\n",
    "        print('Largest:', num1)\n",
    "    else:\n",
    "        print('Largest:', num3)\n",
    "else:\n",
    "    if num2 > num3:\n",
    "        print('Largest:', num2)\n",
    "    else:\n",
    "        print('Largest:', num3)"
   ]
  },
  {
   "cell_type": "markdown",
   "id": "8032b3e4",
   "metadata": {},
   "source": [
    "#### Read an year from user and find it is leap or not?"
   ]
  },
  {
   "cell_type": "code",
   "execution_count": 9,
   "id": "2290c936",
   "metadata": {},
   "outputs": [
    {
     "name": "stdout",
     "output_type": "stream",
     "text": [
      "Enter year: 1700\n",
      "Not Leap\n"
     ]
    }
   ],
   "source": [
    "year = int(input('Enter year: '))\n",
    "if year %4 == 0:\n",
    "    if year % 100 == 0:\n",
    "        if year % 400 == 0:\n",
    "            print('Leap Year')  #2000\n",
    "        else:\n",
    "            print('Not Leap')  #1900\n",
    "    else:\n",
    "        print('Leap Year')  #2024\n",
    "else:\n",
    "    print('Not Leap')  #2023"
   ]
  },
  {
   "cell_type": "markdown",
   "id": "d55d6b9a",
   "metadata": {},
   "source": [
    "#### Use while loop to print your name 10 times"
   ]
  },
  {
   "cell_type": "code",
   "execution_count": 11,
   "id": "8278c37b",
   "metadata": {},
   "outputs": [
    {
     "name": "stdout",
     "output_type": "stream",
     "text": [
      "Tushar\n",
      "Tushar\n",
      "Tushar\n",
      "Tushar\n",
      "Tushar\n",
      "Tushar\n",
      "Tushar\n",
      "Tushar\n",
      "Tushar\n",
      "Tushar\n"
     ]
    }
   ],
   "source": [
    "count = 0\n",
    "while count < 10:\n",
    "    print('Tushar')\n",
    "    count += 1"
   ]
  },
  {
   "cell_type": "markdown",
   "id": "7167e47e",
   "metadata": {},
   "source": [
    "#### Find addition of first 10 natural numbers"
   ]
  },
  {
   "cell_type": "code",
   "execution_count": 13,
   "id": "269a02c7",
   "metadata": {},
   "outputs": [
    {
     "name": "stdout",
     "output_type": "stream",
     "text": [
      "55\n"
     ]
    }
   ],
   "source": [
    "add = 0\n",
    "num = 1\n",
    "while num <= 10:\n",
    "    add = add + num\n",
    "    num += 1\n",
    "    \n",
    "print(add)"
   ]
  },
  {
   "cell_type": "markdown",
   "id": "0a51e90d",
   "metadata": {},
   "source": [
    "#### Find addition of first 10 odd numbers"
   ]
  },
  {
   "cell_type": "code",
   "execution_count": 14,
   "id": "e9bcdffd",
   "metadata": {},
   "outputs": [
    {
     "name": "stdout",
     "output_type": "stream",
     "text": [
      "100\n"
     ]
    }
   ],
   "source": [
    "add = 0\n",
    "num = 1\n",
    "while num <= 20:\n",
    "    add = add + num\n",
    "    num += 2\n",
    "    \n",
    "print(add)"
   ]
  },
  {
   "cell_type": "markdown",
   "id": "9f3e1b1f",
   "metadata": {},
   "source": [
    "#### Use for loop to print your name 10 times"
   ]
  },
  {
   "cell_type": "code",
   "execution_count": 18,
   "id": "8f262ceb",
   "metadata": {},
   "outputs": [
    {
     "name": "stdout",
     "output_type": "stream",
     "text": [
      "Tushar\n",
      "Tushar\n",
      "Tushar\n",
      "Tushar\n",
      "Tushar\n",
      "Tushar\n",
      "Tushar\n",
      "Tushar\n",
      "Tushar\n",
      "Tushar\n"
     ]
    }
   ],
   "source": [
    "for i in range(10):\n",
    "    print('Tushar')"
   ]
  },
  {
   "cell_type": "markdown",
   "id": "d4b4e6c9",
   "metadata": {},
   "source": [
    "#### Find addition of first 10 natural numbers"
   ]
  },
  {
   "cell_type": "code",
   "execution_count": 20,
   "id": "ad006415",
   "metadata": {},
   "outputs": [
    {
     "data": {
      "text/plain": [
       "[0, 1, 2, 3, 4, 5, 6, 7, 8, 9]"
      ]
     },
     "execution_count": 20,
     "metadata": {},
     "output_type": "execute_result"
    }
   ],
   "source": [
    "list(range(10))"
   ]
  },
  {
   "cell_type": "code",
   "execution_count": 21,
   "id": "81be1969",
   "metadata": {},
   "outputs": [
    {
     "name": "stdout",
     "output_type": "stream",
     "text": [
      "55\n"
     ]
    }
   ],
   "source": [
    "add = 0\n",
    "for i in range(1, 11):\n",
    "    add += i\n",
    "\n",
    "print(add)"
   ]
  },
  {
   "cell_type": "markdown",
   "id": "f4782ab0",
   "metadata": {},
   "source": [
    "#### Find addition of first 10 odd numbers"
   ]
  },
  {
   "cell_type": "code",
   "execution_count": 24,
   "id": "a5734b2c",
   "metadata": {},
   "outputs": [
    {
     "name": "stdout",
     "output_type": "stream",
     "text": [
      "100\n"
     ]
    }
   ],
   "source": [
    "add = 0\n",
    "for i in range(1, 20, 2):\n",
    "    add += i\n",
    "\n",
    "print(add)"
   ]
  },
  {
   "cell_type": "code",
   "execution_count": 25,
   "id": "06ffe199",
   "metadata": {},
   "outputs": [
    {
     "data": {
      "text/plain": [
       "[20, 18, 16, 14, 12, 10, 8, 6, 4, 2]"
      ]
     },
     "execution_count": 25,
     "metadata": {},
     "output_type": "execute_result"
    }
   ],
   "source": [
    "list(range(20,0,-2))"
   ]
  },
  {
   "cell_type": "markdown",
   "id": "8b70b92c",
   "metadata": {},
   "source": [
    "#### List"
   ]
  },
  {
   "cell_type": "code",
   "execution_count": 27,
   "id": "143ea63e",
   "metadata": {},
   "outputs": [],
   "source": [
    "num = [45, 66, 23, 44, 56, 61]"
   ]
  },
  {
   "cell_type": "code",
   "execution_count": 28,
   "id": "255c39ab",
   "metadata": {},
   "outputs": [
    {
     "data": {
      "text/plain": [
       "list"
      ]
     },
     "execution_count": 28,
     "metadata": {},
     "output_type": "execute_result"
    }
   ],
   "source": [
    "type(num)"
   ]
  },
  {
   "cell_type": "code",
   "execution_count": 29,
   "id": "ba395a5e",
   "metadata": {},
   "outputs": [
    {
     "data": {
      "text/plain": [
       "45"
      ]
     },
     "execution_count": 29,
     "metadata": {},
     "output_type": "execute_result"
    }
   ],
   "source": [
    "num[0]"
   ]
  },
  {
   "cell_type": "code",
   "execution_count": 30,
   "id": "a362b3a6",
   "metadata": {},
   "outputs": [
    {
     "data": {
      "text/plain": [
       "56"
      ]
     },
     "execution_count": 30,
     "metadata": {},
     "output_type": "execute_result"
    }
   ],
   "source": [
    "num[-2]"
   ]
  },
  {
   "cell_type": "code",
   "execution_count": 31,
   "id": "1ea9d311",
   "metadata": {},
   "outputs": [
    {
     "data": {
      "text/plain": [
       "[66, 23, 44, 56]"
      ]
     },
     "execution_count": 31,
     "metadata": {},
     "output_type": "execute_result"
    }
   ],
   "source": [
    "num[1:5]"
   ]
  },
  {
   "cell_type": "code",
   "execution_count": 32,
   "id": "d77969c0",
   "metadata": {},
   "outputs": [],
   "source": [
    "e = []"
   ]
  },
  {
   "cell_type": "code",
   "execution_count": 33,
   "id": "9e02efd2",
   "metadata": {},
   "outputs": [
    {
     "data": {
      "text/plain": [
       "[45, 66, 23, 44, 56, 61]"
      ]
     },
     "execution_count": 33,
     "metadata": {},
     "output_type": "execute_result"
    }
   ],
   "source": [
    "num "
   ]
  },
  {
   "cell_type": "code",
   "execution_count": 34,
   "id": "75551432",
   "metadata": {},
   "outputs": [],
   "source": [
    "num += [35]"
   ]
  },
  {
   "cell_type": "code",
   "execution_count": 35,
   "id": "26700e57",
   "metadata": {},
   "outputs": [
    {
     "data": {
      "text/plain": [
       "[45, 66, 23, 44, 56, 61, 35]"
      ]
     },
     "execution_count": 35,
     "metadata": {},
     "output_type": "execute_result"
    }
   ],
   "source": [
    "num"
   ]
  },
  {
   "cell_type": "code",
   "execution_count": 36,
   "id": "fd874c55",
   "metadata": {},
   "outputs": [],
   "source": [
    "num.append(29)"
   ]
  },
  {
   "cell_type": "code",
   "execution_count": 37,
   "id": "5cc36b8e",
   "metadata": {},
   "outputs": [
    {
     "data": {
      "text/plain": [
       "[45, 66, 23, 44, 56, 61, 35, 29]"
      ]
     },
     "execution_count": 37,
     "metadata": {},
     "output_type": "execute_result"
    }
   ],
   "source": [
    "num"
   ]
  },
  {
   "cell_type": "code",
   "execution_count": 38,
   "id": "9d43f99b",
   "metadata": {},
   "outputs": [],
   "source": [
    "x = [67, 34, 92]"
   ]
  },
  {
   "cell_type": "code",
   "execution_count": 39,
   "id": "e2f694c4",
   "metadata": {},
   "outputs": [],
   "source": [
    "y = x"
   ]
  },
  {
   "cell_type": "code",
   "execution_count": 40,
   "id": "c25aaa32",
   "metadata": {},
   "outputs": [
    {
     "data": {
      "text/plain": [
       "[67, 34, 92]"
      ]
     },
     "execution_count": 40,
     "metadata": {},
     "output_type": "execute_result"
    }
   ],
   "source": [
    "y"
   ]
  },
  {
   "cell_type": "code",
   "execution_count": 41,
   "id": "b36d95d9",
   "metadata": {},
   "outputs": [
    {
     "data": {
      "text/plain": [
       "[67, 34, 92, 23]"
      ]
     },
     "execution_count": 41,
     "metadata": {},
     "output_type": "execute_result"
    }
   ],
   "source": [
    "x.append(23)\n",
    "x"
   ]
  },
  {
   "cell_type": "code",
   "execution_count": 42,
   "id": "4897c7fe",
   "metadata": {},
   "outputs": [
    {
     "data": {
      "text/plain": [
       "[67, 34, 92, 23]"
      ]
     },
     "execution_count": 42,
     "metadata": {},
     "output_type": "execute_result"
    }
   ],
   "source": [
    "y"
   ]
  },
  {
   "cell_type": "code",
   "execution_count": 43,
   "id": "48088753",
   "metadata": {},
   "outputs": [
    {
     "data": {
      "text/plain": [
       "140021525615360"
      ]
     },
     "execution_count": 43,
     "metadata": {},
     "output_type": "execute_result"
    }
   ],
   "source": [
    "id(x)"
   ]
  },
  {
   "cell_type": "code",
   "execution_count": 44,
   "id": "9d26863c",
   "metadata": {},
   "outputs": [
    {
     "data": {
      "text/plain": [
       "140021525615360"
      ]
     },
     "execution_count": 44,
     "metadata": {},
     "output_type": "execute_result"
    }
   ],
   "source": [
    "id(y)"
   ]
  },
  {
   "cell_type": "code",
   "execution_count": 45,
   "id": "f5ea2af8",
   "metadata": {},
   "outputs": [],
   "source": [
    "y = x.copy()"
   ]
  },
  {
   "cell_type": "code",
   "execution_count": 46,
   "id": "1eff258f",
   "metadata": {},
   "outputs": [
    {
     "data": {
      "text/plain": [
       "[67, 34, 92, 23]"
      ]
     },
     "execution_count": 46,
     "metadata": {},
     "output_type": "execute_result"
    }
   ],
   "source": [
    "y"
   ]
  },
  {
   "cell_type": "code",
   "execution_count": 47,
   "id": "734a7402",
   "metadata": {},
   "outputs": [
    {
     "data": {
      "text/plain": [
       "140021525377728"
      ]
     },
     "execution_count": 47,
     "metadata": {},
     "output_type": "execute_result"
    }
   ],
   "source": [
    "id(y)"
   ]
  },
  {
   "cell_type": "code",
   "execution_count": 48,
   "id": "cb3bef7e",
   "metadata": {},
   "outputs": [
    {
     "data": {
      "text/plain": [
       "140021525615360"
      ]
     },
     "execution_count": 48,
     "metadata": {},
     "output_type": "execute_result"
    }
   ],
   "source": [
    "id(x)"
   ]
  },
  {
   "cell_type": "markdown",
   "id": "8ebacf19",
   "metadata": {},
   "source": [
    "#### tuple"
   ]
  },
  {
   "cell_type": "code",
   "execution_count": 50,
   "id": "e8f837aa",
   "metadata": {},
   "outputs": [],
   "source": [
    "num = (56, 12, 38, 63, 59)"
   ]
  },
  {
   "cell_type": "code",
   "execution_count": 51,
   "id": "08fcc040",
   "metadata": {},
   "outputs": [
    {
     "data": {
      "text/plain": [
       "tuple"
      ]
     },
     "execution_count": 51,
     "metadata": {},
     "output_type": "execute_result"
    }
   ],
   "source": [
    "type(num)"
   ]
  },
  {
   "cell_type": "code",
   "execution_count": 52,
   "id": "a48cda5d",
   "metadata": {},
   "outputs": [
    {
     "data": {
      "text/plain": [
       "63"
      ]
     },
     "execution_count": 52,
     "metadata": {},
     "output_type": "execute_result"
    }
   ],
   "source": [
    "num[3]"
   ]
  },
  {
   "cell_type": "code",
   "execution_count": 53,
   "id": "5474f010",
   "metadata": {},
   "outputs": [
    {
     "ename": "TypeError",
     "evalue": "'tuple' object does not support item assignment",
     "output_type": "error",
     "traceback": [
      "\u001b[0;31m------------------------------------------------------------------------\u001b[0m",
      "\u001b[0;31mTypeError\u001b[0m                              Traceback (most recent call last)",
      "\u001b[0;32m<ipython-input-53-9d2da38d9986>\u001b[0m in \u001b[0;36m<module>\u001b[0;34m\u001b[0m\n\u001b[0;32m----> 1\u001b[0;31m \u001b[0mnum\u001b[0m\u001b[0;34m[\u001b[0m\u001b[0;36m3\u001b[0m\u001b[0;34m]\u001b[0m \u001b[0;34m=\u001b[0m\u001b[0;36m67\u001b[0m\u001b[0;34m\u001b[0m\u001b[0;34m\u001b[0m\u001b[0m\n\u001b[0m",
      "\u001b[0;31mTypeError\u001b[0m: 'tuple' object does not support item assignment"
     ]
    }
   ],
   "source": [
    "num[3] =67"
   ]
  },
  {
   "cell_type": "markdown",
   "id": "f8a4364c",
   "metadata": {},
   "source": [
    "#### Write a program to sort the higher order list\n",
    "\n",
    "#### input: [23,12,65,44,32,65,74,12,42,58]\n",
    "#### output: [23,12,65,44,32,12,42,58,65,74]"
   ]
  },
  {
   "cell_type": "code",
   "execution_count": 61,
   "id": "36381e6b",
   "metadata": {},
   "outputs": [],
   "source": [
    "num = [23,12,65,44,32,65,74,12,42,58]"
   ]
  },
  {
   "cell_type": "code",
   "execution_count": 64,
   "id": "58531699",
   "metadata": {},
   "outputs": [
    {
     "data": {
      "text/plain": [
       "[23, 12, 65, 44, 32, 12, 42, 58, 65, 74]"
      ]
     },
     "execution_count": 64,
     "metadata": {},
     "output_type": "execute_result"
    }
   ],
   "source": [
    "x = num[:len(num) // 2]\n",
    "y = num[len(num) // 2:]\n",
    "y.sort()\n",
    "num = x + y\n",
    "num"
   ]
  },
  {
   "cell_type": "code",
   "execution_count": 67,
   "id": "fca346d7",
   "metadata": {},
   "outputs": [
    {
     "data": {
      "text/plain": [
       "\"metals = ['aluminium','copper','gold',\\n'silver','copper','gold','iron','gold','silver',\\n'copper','copper','gold']\\n\\nCreate a new list which is almost identical to\\nthe original list, which contains the metals in\\nthe same order except element copper\""
      ]
     },
     "execution_count": 67,
     "metadata": {},
     "output_type": "execute_result"
    }
   ],
   "source": [
    "#### Here is list of metallic elements\n",
    "'''metals = ['aluminium','copper','gold',\n",
    "'silver','copper','gold','iron','gold','silver',\n",
    "'copper','copper','gold']\n",
    "\n",
    "Create a new list which is almost identical to\n",
    "the original list, which contains the metals in\n",
    "the same order except element copper'''"
   ]
  },
  {
   "cell_type": "code",
   "execution_count": 69,
   "id": "ee6b84e2",
   "metadata": {},
   "outputs": [],
   "source": [
    "metals = ['aluminium','copper','gold',\n",
    "'silver','copper','gold','iron','gold','silver',\n",
    "'copper','copper','gold']"
   ]
  },
  {
   "cell_type": "code",
   "execution_count": 70,
   "id": "29147324",
   "metadata": {},
   "outputs": [
    {
     "name": "stdout",
     "output_type": "stream",
     "text": [
      "['aluminium', 'gold', 'silver', 'gold', 'iron', 'gold', 'silver', 'gold']\n"
     ]
    }
   ],
   "source": [
    "new_metals = []\n",
    "for metal in metals:\n",
    "    if metal != 'copper':\n",
    "        new_metals.append(metal)\n",
    "        \n",
    "print(new_metals)"
   ]
  },
  {
   "cell_type": "markdown",
   "id": "82479e7a",
   "metadata": {},
   "source": [
    "#### list compehension"
   ]
  },
  {
   "cell_type": "code",
   "execution_count": 72,
   "id": "5a956289",
   "metadata": {},
   "outputs": [],
   "source": [
    "num = [34, 12, 45, 86, 53]"
   ]
  },
  {
   "cell_type": "code",
   "execution_count": 74,
   "id": "6b9afa51",
   "metadata": {},
   "outputs": [
    {
     "data": {
      "text/plain": [
       "[17.0, 6.0, 22.5, 43.0, 26.5]"
      ]
     },
     "execution_count": 74,
     "metadata": {},
     "output_type": "execute_result"
    }
   ],
   "source": [
    "new = [n/2 for n in num]\n",
    "new"
   ]
  },
  {
   "cell_type": "code",
   "execution_count": 77,
   "id": "7f43aa9c",
   "metadata": {},
   "outputs": [
    {
     "data": {
      "text/plain": [
       "[45, 86, 53]"
      ]
     },
     "execution_count": 77,
     "metadata": {},
     "output_type": "execute_result"
    }
   ],
   "source": [
    "new = [n for n in num if n > 40]\n",
    "new"
   ]
  },
  {
   "cell_type": "code",
   "execution_count": 79,
   "id": "9e92dab9",
   "metadata": {},
   "outputs": [
    {
     "name": "stdout",
     "output_type": "stream",
     "text": [
      "['aluminium', 'gold', 'silver', 'gold', 'iron', 'gold', 'silver', 'gold']\n"
     ]
    }
   ],
   "source": [
    "new_metals = [metal for metal in metals \n",
    "              if metal != 'copper']\n",
    "print(new_metals)"
   ]
  },
  {
   "cell_type": "code",
   "execution_count": 81,
   "id": "99107a50",
   "metadata": {},
   "outputs": [],
   "source": [
    "sent = '''They told that their ages are 23 \n",
    "25 and 29 respectively.'''\n",
    "# Find average of ages mentioned in sentence"
   ]
  },
  {
   "cell_type": "code",
   "execution_count": 84,
   "id": "abcef992",
   "metadata": {},
   "outputs": [
    {
     "data": {
      "text/plain": [
       "25.666666666666668"
      ]
     },
     "execution_count": 84,
     "metadata": {},
     "output_type": "execute_result"
    }
   ],
   "source": [
    "words = sent.split()\n",
    "ages = []\n",
    "for word in words:\n",
    "    if word.isdigit():\n",
    "        ages.append(int(word))\n",
    "        \n",
    "sum(ages)/len(ages)"
   ]
  },
  {
   "cell_type": "code",
   "execution_count": 85,
   "id": "d6a1328f",
   "metadata": {},
   "outputs": [
    {
     "data": {
      "text/plain": [
       "25.666666666666668"
      ]
     },
     "execution_count": 85,
     "metadata": {},
     "output_type": "execute_result"
    }
   ],
   "source": [
    "ages = [int(w) for w in words if w.isdigit()]\n",
    "sum(ages)/len(ages)"
   ]
  },
  {
   "cell_type": "markdown",
   "id": "83ca3b5e",
   "metadata": {},
   "source": [
    "#### set"
   ]
  },
  {
   "cell_type": "code",
   "execution_count": 87,
   "id": "872eb915",
   "metadata": {},
   "outputs": [],
   "source": [
    "s = {4,6,5,7,6,5,4,4,4,5,7,8,0,7,5,4}"
   ]
  },
  {
   "cell_type": "code",
   "execution_count": 88,
   "id": "5f0f8319",
   "metadata": {},
   "outputs": [
    {
     "data": {
      "text/plain": [
       "{0, 4, 5, 6, 7, 8}"
      ]
     },
     "execution_count": 88,
     "metadata": {},
     "output_type": "execute_result"
    }
   ],
   "source": [
    "s"
   ]
  },
  {
   "cell_type": "code",
   "execution_count": 89,
   "id": "1e93c454",
   "metadata": {},
   "outputs": [
    {
     "data": {
      "text/plain": [
       "set"
      ]
     },
     "execution_count": 89,
     "metadata": {},
     "output_type": "execute_result"
    }
   ],
   "source": [
    "type(s)"
   ]
  },
  {
   "cell_type": "code",
   "execution_count": 90,
   "id": "b4da74c9",
   "metadata": {},
   "outputs": [],
   "source": [
    "s1 = {1,2,3,4,5}\n",
    "s2 = {4,5,6,7,8}"
   ]
  },
  {
   "cell_type": "code",
   "execution_count": 91,
   "id": "fd3c1c70",
   "metadata": {},
   "outputs": [
    {
     "data": {
      "text/plain": [
       "{1, 2, 3, 4, 5, 6, 7, 8}"
      ]
     },
     "execution_count": 91,
     "metadata": {},
     "output_type": "execute_result"
    }
   ],
   "source": [
    "s1.union(s2)"
   ]
  },
  {
   "cell_type": "code",
   "execution_count": 92,
   "id": "67ed9a1b",
   "metadata": {},
   "outputs": [
    {
     "data": {
      "text/plain": [
       "{4, 5}"
      ]
     },
     "execution_count": 92,
     "metadata": {},
     "output_type": "execute_result"
    }
   ],
   "source": [
    "s1.intersection(s2)"
   ]
  },
  {
   "cell_type": "code",
   "execution_count": 93,
   "id": "40b6c986",
   "metadata": {},
   "outputs": [
    {
     "data": {
      "text/plain": [
       "{1, 2, 3}"
      ]
     },
     "execution_count": 93,
     "metadata": {},
     "output_type": "execute_result"
    }
   ],
   "source": [
    "s1.difference(s2)"
   ]
  },
  {
   "cell_type": "code",
   "execution_count": 94,
   "id": "7266efd9",
   "metadata": {},
   "outputs": [
    {
     "data": {
      "text/plain": [
       "{6, 7, 8}"
      ]
     },
     "execution_count": 94,
     "metadata": {},
     "output_type": "execute_result"
    }
   ],
   "source": [
    "s2.difference(s1)"
   ]
  },
  {
   "cell_type": "markdown",
   "id": "d4e95749",
   "metadata": {},
   "source": [
    "#### dictionary"
   ]
  },
  {
   "cell_type": "code",
   "execution_count": 96,
   "id": "ee0677c6",
   "metadata": {},
   "outputs": [],
   "source": [
    "d = {4:578, 7:268, 10:377, 'a':'apple','x':7288}"
   ]
  },
  {
   "cell_type": "code",
   "execution_count": 97,
   "id": "1634ceef",
   "metadata": {},
   "outputs": [
    {
     "data": {
      "text/plain": [
       "{4: 578, 7: 268, 10: 377, 'a': 'apple', 'x': 7288}"
      ]
     },
     "execution_count": 97,
     "metadata": {},
     "output_type": "execute_result"
    }
   ],
   "source": [
    "d"
   ]
  },
  {
   "cell_type": "code",
   "execution_count": 98,
   "id": "73e2ee37",
   "metadata": {},
   "outputs": [
    {
     "data": {
      "text/plain": [
       "dict"
      ]
     },
     "execution_count": 98,
     "metadata": {},
     "output_type": "execute_result"
    }
   ],
   "source": [
    "type(d)"
   ]
  },
  {
   "cell_type": "code",
   "execution_count": 99,
   "id": "c3e2c9d8",
   "metadata": {},
   "outputs": [
    {
     "data": {
      "text/plain": [
       "578"
      ]
     },
     "execution_count": 99,
     "metadata": {},
     "output_type": "execute_result"
    }
   ],
   "source": [
    "d[4]"
   ]
  },
  {
   "cell_type": "code",
   "execution_count": 100,
   "id": "7f20bfb5",
   "metadata": {},
   "outputs": [
    {
     "ename": "KeyError",
     "evalue": "5",
     "output_type": "error",
     "traceback": [
      "\u001b[0;31m------------------------------------------------------------------------\u001b[0m",
      "\u001b[0;31mKeyError\u001b[0m                               Traceback (most recent call last)",
      "\u001b[0;32m<ipython-input-100-a47182b4f775>\u001b[0m in \u001b[0;36m<module>\u001b[0;34m\u001b[0m\n\u001b[0;32m----> 1\u001b[0;31m \u001b[0md\u001b[0m\u001b[0;34m[\u001b[0m\u001b[0;36m5\u001b[0m\u001b[0;34m]\u001b[0m\u001b[0;34m\u001b[0m\u001b[0;34m\u001b[0m\u001b[0m\n\u001b[0m",
      "\u001b[0;31mKeyError\u001b[0m: 5"
     ]
    }
   ],
   "source": [
    "d[5]"
   ]
  },
  {
   "cell_type": "code",
   "execution_count": 101,
   "id": "b1934e8a",
   "metadata": {},
   "outputs": [],
   "source": [
    "d[4] = 457"
   ]
  },
  {
   "cell_type": "code",
   "execution_count": 102,
   "id": "c4484a51",
   "metadata": {},
   "outputs": [
    {
     "data": {
      "text/plain": [
       "{4: 457, 7: 268, 10: 377, 'a': 'apple', 'x': 7288}"
      ]
     },
     "execution_count": 102,
     "metadata": {},
     "output_type": "execute_result"
    }
   ],
   "source": [
    "d"
   ]
  },
  {
   "cell_type": "code",
   "execution_count": 103,
   "id": "b787accc",
   "metadata": {},
   "outputs": [
    {
     "data": {
      "text/plain": [
       "{4: 457, 7: 268, 10: 377, 'a': 'apple', 'x': 7288, 'z': 'zebra'}"
      ]
     },
     "execution_count": 103,
     "metadata": {},
     "output_type": "execute_result"
    }
   ],
   "source": [
    "d['z'] = 'zebra'\n",
    "d"
   ]
  },
  {
   "cell_type": "code",
   "execution_count": 104,
   "id": "c70073fc",
   "metadata": {},
   "outputs": [
    {
     "data": {
      "text/plain": [
       "tuple"
      ]
     },
     "execution_count": 104,
     "metadata": {},
     "output_type": "execute_result"
    }
   ],
   "source": [
    "t = ()\n",
    "type(t)"
   ]
  },
  {
   "cell_type": "code",
   "execution_count": 106,
   "id": "81d7c5ac",
   "metadata": {},
   "outputs": [],
   "source": [
    "d={}"
   ]
  },
  {
   "cell_type": "code",
   "execution_count": 108,
   "id": "4768d55c",
   "metadata": {},
   "outputs": [
    {
     "data": {
      "text/plain": [
       "dict"
      ]
     },
     "execution_count": 108,
     "metadata": {},
     "output_type": "execute_result"
    }
   ],
   "source": [
    "type(d)"
   ]
  },
  {
   "cell_type": "code",
   "execution_count": 109,
   "id": "a077e214",
   "metadata": {},
   "outputs": [],
   "source": [
    "s.add(2)"
   ]
  },
  {
   "cell_type": "code",
   "execution_count": 110,
   "id": "4b4851cd",
   "metadata": {},
   "outputs": [
    {
     "data": {
      "text/plain": [
       "{0, 2, 4, 5, 6, 7, 8}"
      ]
     },
     "execution_count": 110,
     "metadata": {},
     "output_type": "execute_result"
    }
   ],
   "source": [
    "s"
   ]
  },
  {
   "cell_type": "markdown",
   "id": "49323c19",
   "metadata": {},
   "source": [
    "#### Functions"
   ]
  },
  {
   "cell_type": "code",
   "execution_count": 112,
   "id": "846bb614",
   "metadata": {},
   "outputs": [],
   "source": [
    "# Write a function to find factorial of number"
   ]
  },
  {
   "cell_type": "code",
   "execution_count": 113,
   "id": "d6aa86bb",
   "metadata": {},
   "outputs": [
    {
     "name": "stdout",
     "output_type": "stream",
     "text": [
      "Enter a number: 5\n",
      "Factorial is: 120\n"
     ]
    }
   ],
   "source": [
    "def factorial(n):\n",
    "    fact = 1\n",
    "    for i in range(1, n+1):\n",
    "        fact = fact * i\n",
    "    return fact\n",
    "\n",
    "num = int(input('Enter a number: '))\n",
    "print('Factorial is:', factorial(num))"
   ]
  },
  {
   "cell_type": "code",
   "execution_count": 121,
   "id": "11bf7d42",
   "metadata": {},
   "outputs": [
    {
     "name": "stdout",
     "output_type": "stream",
     "text": [
      "Call1: 20\n",
      "Call2: 19\n",
      "Call3: 17\n",
      "Call4: 14\n",
      "Call5: 15\n",
      "Call6: 17\n"
     ]
    }
   ],
   "source": [
    "def add(x=5, y=7, z=2):\n",
    "    a = x + y + z\n",
    "    return a\n",
    "\n",
    "print('Call1:', add(8,9,3))\n",
    "print('Call2:', add(8,9))\n",
    "print('Call3:', add(8))\n",
    "print('Call4:', add())\n",
    "print('Call5:', add(y=8))\n",
    "print('Call6:', add(y=5,x=9,z=3))"
   ]
  },
  {
   "cell_type": "markdown",
   "id": "7a2477f3",
   "metadata": {},
   "source": [
    "#### Variable length arguments"
   ]
  },
  {
   "cell_type": "code",
   "execution_count": 123,
   "id": "a2bee1fa",
   "metadata": {},
   "outputs": [],
   "source": [
    "def show(*data):\n",
    "    for a in data:\n",
    "        print(a, end=' ')"
   ]
  },
  {
   "cell_type": "code",
   "execution_count": 125,
   "id": "baf89750",
   "metadata": {},
   "outputs": [
    {
     "name": "stdout",
     "output_type": "stream",
     "text": [
      "34 67 hello True "
     ]
    }
   ],
   "source": [
    "show(34, 67, 'hello', True)"
   ]
  },
  {
   "cell_type": "code",
   "execution_count": 126,
   "id": "d1199059",
   "metadata": {},
   "outputs": [],
   "source": [
    "def concat(*sent):\n",
    "    x=''\n",
    "    for s in sent:\n",
    "       x += s\n",
    "    return x"
   ]
  },
  {
   "cell_type": "code",
   "execution_count": 127,
   "id": "5cfd2c3c",
   "metadata": {},
   "outputs": [
    {
     "data": {
      "text/plain": [
       "'helloworld'"
      ]
     },
     "execution_count": 127,
     "metadata": {},
     "output_type": "execute_result"
    }
   ],
   "source": [
    "concat('hello','world')"
   ]
  },
  {
   "cell_type": "code",
   "execution_count": 128,
   "id": "c4c0d8e0",
   "metadata": {},
   "outputs": [],
   "source": [
    "def calc(n):\n",
    "    sq = n * n\n",
    "    cu = n ** 3\n",
    "    return sq, cu"
   ]
  },
  {
   "cell_type": "code",
   "execution_count": 129,
   "id": "886be787",
   "metadata": {},
   "outputs": [
    {
     "name": "stdout",
     "output_type": "stream",
     "text": [
      "(25, 125)\n"
     ]
    }
   ],
   "source": [
    "print(calc(5))"
   ]
  },
  {
   "cell_type": "code",
   "execution_count": 130,
   "id": "4923b1a4",
   "metadata": {},
   "outputs": [],
   "source": [
    "x, y = calc(8)"
   ]
  },
  {
   "cell_type": "code",
   "execution_count": 131,
   "id": "e8637fc3",
   "metadata": {},
   "outputs": [
    {
     "data": {
      "text/plain": [
       "64"
      ]
     },
     "execution_count": 131,
     "metadata": {},
     "output_type": "execute_result"
    }
   ],
   "source": [
    "x"
   ]
  },
  {
   "cell_type": "code",
   "execution_count": 134,
   "id": "497bad06",
   "metadata": {},
   "outputs": [
    {
     "ename": "ValueError",
     "evalue": "too many values to unpack (expected 2)",
     "output_type": "error",
     "traceback": [
      "\u001b[0;31m------------------------------------------------------------------------\u001b[0m",
      "\u001b[0;31mValueError\u001b[0m                             Traceback (most recent call last)",
      "\u001b[0;32m<ipython-input-134-06e9a874938b>\u001b[0m in \u001b[0;36m<module>\u001b[0;34m\u001b[0m\n\u001b[0;32m----> 1\u001b[0;31m \u001b[0mp\u001b[0m\u001b[0;34m,\u001b[0m \u001b[0mr\u001b[0m \u001b[0;34m=\u001b[0m \u001b[0;36m56\u001b[0m\u001b[0;34m,\u001b[0m \u001b[0;36m45\u001b[0m\u001b[0;34m,\u001b[0m \u001b[0;36m23\u001b[0m\u001b[0;34m\u001b[0m\u001b[0;34m\u001b[0m\u001b[0m\n\u001b[0m",
      "\u001b[0;31mValueError\u001b[0m: too many values to unpack (expected 2)"
     ]
    }
   ],
   "source": [
    "p, r = 56, 45, 23"
   ]
  },
  {
   "cell_type": "code",
   "execution_count": 133,
   "id": "9287d908",
   "metadata": {},
   "outputs": [
    {
     "data": {
      "text/plain": [
       "(56, 45, 23)"
      ]
     },
     "execution_count": 133,
     "metadata": {},
     "output_type": "execute_result"
    }
   ],
   "source": [
    "p"
   ]
  },
  {
   "cell_type": "markdown",
   "id": "13599540",
   "metadata": {},
   "source": [
    "#### lambda functions"
   ]
  },
  {
   "cell_type": "code",
   "execution_count": 136,
   "id": "9f6ae1c2",
   "metadata": {},
   "outputs": [],
   "source": [
    "square = lambda x: x * x"
   ]
  },
  {
   "cell_type": "code",
   "execution_count": 137,
   "id": "171c5ef9",
   "metadata": {},
   "outputs": [
    {
     "data": {
      "text/plain": [
       "25"
      ]
     },
     "execution_count": 137,
     "metadata": {},
     "output_type": "execute_result"
    }
   ],
   "source": [
    "square(5)"
   ]
  },
  {
   "cell_type": "code",
   "execution_count": 138,
   "id": "26c48968",
   "metadata": {},
   "outputs": [],
   "source": [
    "num = [56,32,67,84,15,37,88,97]"
   ]
  },
  {
   "cell_type": "code",
   "execution_count": 139,
   "id": "405aa45a",
   "metadata": {},
   "outputs": [
    {
     "data": {
      "text/plain": [
       "[28.0, 16.0, 33.5, 42.0, 7.5, 18.5, 44.0, 48.5]"
      ]
     },
     "execution_count": 139,
     "metadata": {},
     "output_type": "execute_result"
    }
   ],
   "source": [
    "list(map(lambda x : x / 2, num))"
   ]
  },
  {
   "cell_type": "code",
   "execution_count": 140,
   "id": "de7c6d6e",
   "metadata": {},
   "outputs": [
    {
     "data": {
      "text/plain": [
       "[56, 67, 84, 88, 97]"
      ]
     },
     "execution_count": 140,
     "metadata": {},
     "output_type": "execute_result"
    }
   ],
   "source": [
    "list(filter(lambda x : x > 50, num))"
   ]
  },
  {
   "cell_type": "code",
   "execution_count": 147,
   "id": "9afd5c03",
   "metadata": {},
   "outputs": [
    {
     "name": "stdout",
     "output_type": "stream",
     "text": [
      "Value1: 4\n",
      "Value2: 5\n"
     ]
    }
   ],
   "source": [
    "c = 4\n",
    "\n",
    "def show():\n",
    "    global c\n",
    "    print('Value1:', c)\n",
    "    c += 1\n",
    "    \n",
    "show()\n",
    "print('Value2:', c)"
   ]
  },
  {
   "cell_type": "code",
   "execution_count": 152,
   "id": "2018616e",
   "metadata": {},
   "outputs": [],
   "source": [
    "num = 0o23"
   ]
  },
  {
   "cell_type": "code",
   "execution_count": 153,
   "id": "a9bc178b",
   "metadata": {},
   "outputs": [
    {
     "data": {
      "text/plain": [
       "19"
      ]
     },
     "execution_count": 153,
     "metadata": {},
     "output_type": "execute_result"
    }
   ],
   "source": [
    "num"
   ]
  },
  {
   "cell_type": "code",
   "execution_count": 157,
   "id": "eb32d273",
   "metadata": {},
   "outputs": [
    {
     "name": "stdout",
     "output_type": "stream",
     "text": [
      "19\n"
     ]
    }
   ],
   "source": [
    "print('%d' %num)"
   ]
  },
  {
   "cell_type": "markdown",
   "id": "1f24a1fc",
   "metadata": {},
   "source": [
    "#### modules"
   ]
  },
  {
   "cell_type": "code",
   "execution_count": 159,
   "id": "d0fd7791",
   "metadata": {},
   "outputs": [],
   "source": [
    "import math"
   ]
  },
  {
   "cell_type": "code",
   "execution_count": 160,
   "id": "0b69b463",
   "metadata": {},
   "outputs": [
    {
     "name": "stdout",
     "output_type": "stream",
     "text": [
      "Help on built-in module math:\n",
      "\n",
      "NAME\n",
      "    math\n",
      "\n",
      "DESCRIPTION\n",
      "    This module provides access to the mathematical functions\n",
      "    defined by the C standard.\n",
      "\n",
      "FUNCTIONS\n",
      "    acos(x, /)\n",
      "        Return the arc cosine (measured in radians) of x.\n",
      "    \n",
      "    acosh(x, /)\n",
      "        Return the inverse hyperbolic cosine of x.\n",
      "    \n",
      "    asin(x, /)\n",
      "        Return the arc sine (measured in radians) of x.\n",
      "    \n",
      "    asinh(x, /)\n",
      "        Return the inverse hyperbolic sine of x.\n",
      "    \n",
      "    atan(x, /)\n",
      "        Return the arc tangent (measured in radians) of x.\n",
      "    \n",
      "    atan2(y, x, /)\n",
      "        Return the arc tangent (measured in radians) of y/x.\n",
      "        \n",
      "        Unlike atan(y/x), the signs of both x and y are considered.\n",
      "    \n",
      "    atanh(x, /)\n",
      "        Return the inverse hyperbolic tangent of x.\n",
      "    \n",
      "    ceil(x, /)\n",
      "        Return the ceiling of x as an Integral.\n",
      "        \n",
      "        This is the smallest integer >= x.\n",
      "    \n",
      "    comb(n, k, /)\n",
      "        Number of ways to choose k items from n items without repetition and without order.\n",
      "        \n",
      "        Evaluates to n! / (k! * (n - k)!) when k <= n and evaluates\n",
      "        to zero when k > n.\n",
      "        \n",
      "        Also called the binomial coefficient because it is equivalent\n",
      "        to the coefficient of k-th term in polynomial expansion of the\n",
      "        expression (1 + x)**n.\n",
      "        \n",
      "        Raises TypeError if either of the arguments are not integers.\n",
      "        Raises ValueError if either of the arguments are negative.\n",
      "    \n",
      "    copysign(x, y, /)\n",
      "        Return a float with the magnitude (absolute value) of x but the sign of y.\n",
      "        \n",
      "        On platforms that support signed zeros, copysign(1.0, -0.0)\n",
      "        returns -1.0.\n",
      "    \n",
      "    cos(x, /)\n",
      "        Return the cosine of x (measured in radians).\n",
      "    \n",
      "    cosh(x, /)\n",
      "        Return the hyperbolic cosine of x.\n",
      "    \n",
      "    degrees(x, /)\n",
      "        Convert angle x from radians to degrees.\n",
      "    \n",
      "    dist(p, q, /)\n",
      "        Return the Euclidean distance between two points p and q.\n",
      "        \n",
      "        The points should be specified as sequences (or iterables) of\n",
      "        coordinates.  Both inputs must have the same dimension.\n",
      "        \n",
      "        Roughly equivalent to:\n",
      "            sqrt(sum((px - qx) ** 2.0 for px, qx in zip(p, q)))\n",
      "    \n",
      "    erf(x, /)\n",
      "        Error function at x.\n",
      "    \n",
      "    erfc(x, /)\n",
      "        Complementary error function at x.\n",
      "    \n",
      "    exp(x, /)\n",
      "        Return e raised to the power of x.\n",
      "    \n",
      "    expm1(x, /)\n",
      "        Return exp(x)-1.\n",
      "        \n",
      "        This function avoids the loss of precision involved in the direct evaluation of exp(x)-1 for small x.\n",
      "    \n",
      "    fabs(x, /)\n",
      "        Return the absolute value of the float x.\n",
      "    \n",
      "    factorial(x, /)\n",
      "        Find x!.\n",
      "        \n",
      "        Raise a ValueError if x is negative or non-integral.\n",
      "    \n",
      "    floor(x, /)\n",
      "        Return the floor of x as an Integral.\n",
      "        \n",
      "        This is the largest integer <= x.\n",
      "    \n",
      "    fmod(x, y, /)\n",
      "        Return fmod(x, y), according to platform C.\n",
      "        \n",
      "        x % y may differ.\n",
      "    \n",
      "    frexp(x, /)\n",
      "        Return the mantissa and exponent of x, as pair (m, e).\n",
      "        \n",
      "        m is a float and e is an int, such that x = m * 2.**e.\n",
      "        If x is 0, m and e are both 0.  Else 0.5 <= abs(m) < 1.0.\n",
      "    \n",
      "    fsum(seq, /)\n",
      "        Return an accurate floating point sum of values in the iterable seq.\n",
      "        \n",
      "        Assumes IEEE-754 floating point arithmetic.\n",
      "    \n",
      "    gamma(x, /)\n",
      "        Gamma function at x.\n",
      "    \n",
      "    gcd(x, y, /)\n",
      "        greatest common divisor of x and y\n",
      "    \n",
      "    hypot(...)\n",
      "        hypot(*coordinates) -> value\n",
      "        \n",
      "        Multidimensional Euclidean distance from the origin to a point.\n",
      "        \n",
      "        Roughly equivalent to:\n",
      "            sqrt(sum(x**2 for x in coordinates))\n",
      "        \n",
      "        For a two dimensional point (x, y), gives the hypotenuse\n",
      "        using the Pythagorean theorem:  sqrt(x*x + y*y).\n",
      "        \n",
      "        For example, the hypotenuse of a 3/4/5 right triangle is:\n",
      "        \n",
      "            >>> hypot(3.0, 4.0)\n",
      "            5.0\n",
      "    \n",
      "    isclose(a, b, *, rel_tol=1e-09, abs_tol=0.0)\n",
      "        Determine whether two floating point numbers are close in value.\n",
      "        \n",
      "          rel_tol\n",
      "            maximum difference for being considered \"close\", relative to the\n",
      "            magnitude of the input values\n",
      "          abs_tol\n",
      "            maximum difference for being considered \"close\", regardless of the\n",
      "            magnitude of the input values\n",
      "        \n",
      "        Return True if a is close in value to b, and False otherwise.\n",
      "        \n",
      "        For the values to be considered close, the difference between them\n",
      "        must be smaller than at least one of the tolerances.\n",
      "        \n",
      "        -inf, inf and NaN behave similarly to the IEEE 754 Standard.  That\n",
      "        is, NaN is not close to anything, even itself.  inf and -inf are\n",
      "        only close to themselves.\n",
      "    \n",
      "    isfinite(x, /)\n",
      "        Return True if x is neither an infinity nor a NaN, and False otherwise.\n",
      "    \n",
      "    isinf(x, /)\n",
      "        Return True if x is a positive or negative infinity, and False otherwise.\n",
      "    \n",
      "    isnan(x, /)\n",
      "        Return True if x is a NaN (not a number), and False otherwise.\n",
      "    \n",
      "    isqrt(n, /)\n",
      "        Return the integer part of the square root of the input.\n",
      "    \n",
      "    ldexp(x, i, /)\n",
      "        Return x * (2**i).\n",
      "        \n",
      "        This is essentially the inverse of frexp().\n",
      "    \n",
      "    lgamma(x, /)\n",
      "        Natural logarithm of absolute value of Gamma function at x.\n",
      "    \n",
      "    log(...)\n",
      "        log(x, [base=math.e])\n",
      "        Return the logarithm of x to the given base.\n",
      "        \n",
      "        If the base not specified, returns the natural logarithm (base e) of x.\n",
      "    \n",
      "    log10(x, /)\n",
      "        Return the base 10 logarithm of x.\n",
      "    \n",
      "    log1p(x, /)\n",
      "        Return the natural logarithm of 1+x (base e).\n",
      "        \n",
      "        The result is computed in a way which is accurate for x near zero.\n",
      "    \n",
      "    log2(x, /)\n",
      "        Return the base 2 logarithm of x.\n",
      "    \n",
      "    modf(x, /)\n",
      "        Return the fractional and integer parts of x.\n",
      "        \n",
      "        Both results carry the sign of x and are floats.\n",
      "    \n",
      "    perm(n, k=None, /)\n",
      "        Number of ways to choose k items from n items without repetition and with order.\n",
      "        \n",
      "        Evaluates to n! / (n - k)! when k <= n and evaluates\n",
      "        to zero when k > n.\n",
      "        \n",
      "        If k is not specified or is None, then k defaults to n\n",
      "        and the function returns n!.\n",
      "        \n",
      "        Raises TypeError if either of the arguments are not integers.\n",
      "        Raises ValueError if either of the arguments are negative.\n",
      "    \n",
      "    pow(x, y, /)\n",
      "        Return x**y (x to the power of y).\n",
      "    \n",
      "    prod(iterable, /, *, start=1)\n",
      "        Calculate the product of all the elements in the input iterable.\n",
      "        \n",
      "        The default start value for the product is 1.\n",
      "        \n",
      "        When the iterable is empty, return the start value.  This function is\n",
      "        intended specifically for use with numeric values and may reject\n",
      "        non-numeric types.\n",
      "    \n",
      "    radians(x, /)\n",
      "        Convert angle x from degrees to radians.\n",
      "    \n",
      "    remainder(x, y, /)\n",
      "        Difference between x and the closest integer multiple of y.\n",
      "        \n",
      "        Return x - n*y where n*y is the closest integer multiple of y.\n",
      "        In the case where x is exactly halfway between two multiples of\n",
      "        y, the nearest even value of n is used. The result is always exact.\n",
      "    \n",
      "    sin(x, /)\n",
      "        Return the sine of x (measured in radians).\n",
      "    \n",
      "    sinh(x, /)\n",
      "        Return the hyperbolic sine of x.\n",
      "    \n",
      "    sqrt(x, /)\n",
      "        Return the square root of x.\n",
      "    \n",
      "    tan(x, /)\n",
      "        Return the tangent of x (measured in radians).\n",
      "    \n",
      "    tanh(x, /)\n",
      "        Return the hyperbolic tangent of x.\n",
      "    \n",
      "    trunc(x, /)\n",
      "        Truncates the Real x to the nearest Integral toward 0.\n",
      "        \n",
      "        Uses the __trunc__ magic method.\n",
      "\n",
      "DATA\n",
      "    e = 2.718281828459045\n",
      "    inf = inf\n",
      "    nan = nan\n",
      "    pi = 3.141592653589793\n",
      "    tau = 6.283185307179586\n",
      "\n",
      "FILE\n",
      "    (built-in)\n",
      "\n",
      "\n"
     ]
    }
   ],
   "source": [
    "help(math)"
   ]
  },
  {
   "cell_type": "code",
   "execution_count": 161,
   "id": "504918fa",
   "metadata": {},
   "outputs": [
    {
     "data": {
      "text/plain": [
       "7.483314773547883"
      ]
     },
     "execution_count": 161,
     "metadata": {},
     "output_type": "execute_result"
    }
   ],
   "source": [
    "math.sqrt(56)"
   ]
  },
  {
   "cell_type": "code",
   "execution_count": 162,
   "id": "03ae4b89",
   "metadata": {},
   "outputs": [
    {
     "data": {
      "text/plain": [
       "3.141592653589793"
      ]
     },
     "execution_count": 162,
     "metadata": {},
     "output_type": "execute_result"
    }
   ],
   "source": [
    "math.pi"
   ]
  },
  {
   "cell_type": "code",
   "execution_count": 163,
   "id": "c1559886",
   "metadata": {},
   "outputs": [
    {
     "data": {
      "text/plain": [
       "2.718281828459045"
      ]
     },
     "execution_count": 163,
     "metadata": {},
     "output_type": "execute_result"
    }
   ],
   "source": [
    "math.e"
   ]
  },
  {
   "cell_type": "code",
   "execution_count": 164,
   "id": "e0fde6f5",
   "metadata": {},
   "outputs": [],
   "source": [
    "import math as m"
   ]
  },
  {
   "cell_type": "code",
   "execution_count": 165,
   "id": "54e07d36",
   "metadata": {},
   "outputs": [
    {
     "data": {
      "text/plain": [
       "7.483314773547883"
      ]
     },
     "execution_count": 165,
     "metadata": {},
     "output_type": "execute_result"
    }
   ],
   "source": [
    "m.sqrt(56)"
   ]
  },
  {
   "cell_type": "code",
   "execution_count": 166,
   "id": "d61b82dc",
   "metadata": {},
   "outputs": [],
   "source": [
    "from math import sqrt, pi, log"
   ]
  },
  {
   "cell_type": "code",
   "execution_count": 167,
   "id": "92811627",
   "metadata": {},
   "outputs": [
    {
     "data": {
      "text/plain": [
       "3.0"
      ]
     },
     "execution_count": 167,
     "metadata": {},
     "output_type": "execute_result"
    }
   ],
   "source": [
    "sqrt(9)"
   ]
  },
  {
   "cell_type": "code",
   "execution_count": 168,
   "id": "0f404036",
   "metadata": {},
   "outputs": [
    {
     "data": {
      "text/plain": [
       "3.141592653589793"
      ]
     },
     "execution_count": 168,
     "metadata": {},
     "output_type": "execute_result"
    }
   ],
   "source": [
    "pi"
   ]
  },
  {
   "cell_type": "code",
   "execution_count": null,
   "id": "0319fa41",
   "metadata": {},
   "outputs": [],
   "source": []
  }
 ],
 "metadata": {
  "kernelspec": {
   "display_name": "Python 3",
   "language": "python",
   "name": "python3"
  },
  "language_info": {
   "codemirror_mode": {
    "name": "ipython",
    "version": 3
   },
   "file_extension": ".py",
   "mimetype": "text/x-python",
   "name": "python",
   "nbconvert_exporter": "python",
   "pygments_lexer": "ipython3",
   "version": "3.8.10"
  }
 },
 "nbformat": 4,
 "nbformat_minor": 5
}
