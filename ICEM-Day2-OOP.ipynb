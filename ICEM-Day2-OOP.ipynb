{
 "cells": [
  {
   "cell_type": "code",
   "execution_count": 1,
   "id": "7c0c6661",
   "metadata": {},
   "outputs": [],
   "source": [
    "num = [67, 34, 12, 85, 39]"
   ]
  },
  {
   "cell_type": "code",
   "execution_count": 2,
   "id": "e98ac64a",
   "metadata": {},
   "outputs": [
    {
     "data": {
      "text/plain": [
       "[12, 34, 39, 67, 85]"
      ]
     },
     "execution_count": 2,
     "metadata": {},
     "output_type": "execute_result"
    }
   ],
   "source": [
    "sorted(num)"
   ]
  },
  {
   "cell_type": "code",
   "execution_count": 3,
   "id": "79e65609",
   "metadata": {},
   "outputs": [],
   "source": [
    "num.sort()"
   ]
  },
  {
   "cell_type": "code",
   "execution_count": 4,
   "id": "43231a4d",
   "metadata": {},
   "outputs": [
    {
     "data": {
      "text/plain": [
       "[12, 34, 39, 67, 85]"
      ]
     },
     "execution_count": 4,
     "metadata": {},
     "output_type": "execute_result"
    }
   ],
   "source": [
    "num"
   ]
  },
  {
   "cell_type": "code",
   "execution_count": 23,
   "id": "9ca12668",
   "metadata": {},
   "outputs": [],
   "source": [
    "class Person:\n",
    "    def __init__(self, n, a=21):\n",
    "        self.name = n\n",
    "        self.age = a\n",
    "    def show(self):\n",
    "        print('Values:')\n",
    "        print(self.name, self.age)\n",
    "    def is_eligible(self):\n",
    "        if self.age >= 18:\n",
    "            return True\n",
    "        else:\n",
    "            return False"
   ]
  },
  {
   "cell_type": "code",
   "execution_count": 24,
   "id": "74ccf38a",
   "metadata": {},
   "outputs": [],
   "source": [
    "obj1 = Person('anil', 13)"
   ]
  },
  {
   "cell_type": "code",
   "execution_count": 25,
   "id": "73e1e483",
   "metadata": {},
   "outputs": [
    {
     "data": {
      "text/plain": [
       "13"
      ]
     },
     "execution_count": 25,
     "metadata": {},
     "output_type": "execute_result"
    }
   ],
   "source": [
    "obj1.age"
   ]
  },
  {
   "cell_type": "code",
   "execution_count": 26,
   "id": "5baff789",
   "metadata": {},
   "outputs": [
    {
     "data": {
      "text/plain": [
       "'anil'"
      ]
     },
     "execution_count": 26,
     "metadata": {},
     "output_type": "execute_result"
    }
   ],
   "source": [
    "obj1.name"
   ]
  },
  {
   "cell_type": "code",
   "execution_count": 27,
   "id": "03e1e079",
   "metadata": {},
   "outputs": [
    {
     "name": "stdout",
     "output_type": "stream",
     "text": [
      "Values:\n",
      "anil 13\n"
     ]
    }
   ],
   "source": [
    "obj1.show()"
   ]
  },
  {
   "cell_type": "code",
   "execution_count": 28,
   "id": "f07dc829",
   "metadata": {},
   "outputs": [
    {
     "data": {
      "text/plain": [
       "False"
      ]
     },
     "execution_count": 28,
     "metadata": {},
     "output_type": "execute_result"
    }
   ],
   "source": [
    "obj1.is_eligible()"
   ]
  },
  {
   "cell_type": "code",
   "execution_count": 29,
   "id": "9057ab97",
   "metadata": {},
   "outputs": [
    {
     "name": "stdout",
     "output_type": "stream",
     "text": [
      "Values:\n",
      "sunil 28\n"
     ]
    }
   ],
   "source": [
    "obj2 = Person('sunil', 28)\n",
    "obj2.show()"
   ]
  },
  {
   "cell_type": "code",
   "execution_count": 30,
   "id": "18dfc15d",
   "metadata": {},
   "outputs": [],
   "source": [
    "obj3 = Person('priya')"
   ]
  },
  {
   "cell_type": "code",
   "execution_count": 31,
   "id": "7cf25a6f",
   "metadata": {},
   "outputs": [
    {
     "name": "stdout",
     "output_type": "stream",
     "text": [
      "Values:\n",
      "priya 21\n"
     ]
    }
   ],
   "source": [
    "obj3.show()"
   ]
  },
  {
   "cell_type": "code",
   "execution_count": null,
   "id": "492a1008",
   "metadata": {},
   "outputs": [],
   "source": []
  }
 ],
 "metadata": {
  "kernelspec": {
   "display_name": "Python 3",
   "language": "python",
   "name": "python3"
  },
  "language_info": {
   "codemirror_mode": {
    "name": "ipython",
    "version": 3
   },
   "file_extension": ".py",
   "mimetype": "text/x-python",
   "name": "python",
   "nbconvert_exporter": "python",
   "pygments_lexer": "ipython3",
   "version": "3.8.10"
  }
 },
 "nbformat": 4,
 "nbformat_minor": 5
}
